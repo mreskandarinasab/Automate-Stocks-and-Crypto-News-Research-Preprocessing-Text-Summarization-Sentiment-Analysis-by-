{
  "nbformat": 4,
  "nbformat_minor": 0,
  "metadata": {
    "colab": {
      "name": "Stock-and-Crypto-News-ScrapingSummarizationSentiment.ipynb",
      "provenance": [],
      "collapsed_sections": [],
      "authorship_tag": "ABX9TyO5IndoMg+Qr7KTtZ4Th6SX",
      "include_colab_link": true
    },
    "kernelspec": {
      "name": "python3",
      "display_name": "Python 3"
    },
    "language_info": {
      "name": "python"
    },
    "accelerator": "GPU"
  },
  "cells": [
    {
      "cell_type": "markdown",
      "metadata": {
        "id": "view-in-github",
        "colab_type": "text"
      },
      "source": [
        "<a href=\"https://colab.research.google.com/github/mreskandarinasab/Automate-Stocks-and-Crypto-News-Research-Preprocessing-Text-Summarization-Sentiment-Analysis-by-/blob/main/Stock_and_Crypto_News_ScrapingSummarizationSentiment.ipynb\" target=\"_parent\"><img src=\"https://colab.research.google.com/assets/colab-badge.svg\" alt=\"Open In Colab\"/></a>"
      ]
    },
    {
      "cell_type": "markdown",
      "metadata": {
        "id": "7y4HAXjsBVeJ"
      },
      "source": [
        "# 1. Install and Import Baseline Dependencies"
      ]
    },
    {
      "cell_type": "code",
      "metadata": {
        "id": "eRrgrpQs_zhb"
      },
      "source": [
        "!pip install sentencepiece\n",
        "!pip install transformers"
      ],
      "execution_count": null,
      "outputs": []
    },
    {
      "cell_type": "code",
      "metadata": {
        "id": "u4YRSmQcBg75"
      },
      "source": [
        "from transformers import PegasusTokenizer, PegasusForConditionalGeneration\n",
        "from bs4 import BeautifulSoup\n",
        "import requests"
      ],
      "execution_count": null,
      "outputs": []
    },
    {
      "cell_type": "markdown",
      "metadata": {
        "id": "DOI6JBGsBidy"
      },
      "source": [
        "\n",
        "# 2. Setup Summarization Model"
      ]
    },
    {
      "cell_type": "code",
      "metadata": {
        "id": "9boJNBZQBjG5"
      },
      "source": [
        "model_name = \"human-centered-summarization/financial-summarization-pegasus\"\n",
        "tokenizer = PegasusTokenizer.from_pretrained(model_name)\n",
        "model = PegasusForConditionalGeneration.from_pretrained(model_name)"
      ],
      "execution_count": null,
      "outputs": []
    },
    {
      "cell_type": "markdown",
      "metadata": {
        "id": "0BWikhwhBk06"
      },
      "source": [
        "# 3. Summarize a Single Article"
      ]
    },
    {
      "cell_type": "code",
      "metadata": {
        "id": "x3ST9n3vBoD9"
      },
      "source": [
        "url = \"https://finance.yahoo.com/news/apple-treasurer-keeper-200-billion-210149390.html\"\n",
        "r = requests.get(url)\n",
        "soup = BeautifulSoup(r.text, 'html.parser')\n",
        "paragraphs = soup.find_all('p')"
      ],
      "execution_count": null,
      "outputs": []
    },
    {
      "cell_type": "code",
      "metadata": {
        "colab": {
          "base_uri": "https://localhost:8080/",
          "height": 53
        },
        "id": "t6ViWrjEBp1X",
        "outputId": "bf47147c-ce85-40e5-cc79-ab0e27e18ca2"
      },
      "source": [
        "paragraphs[1].text"
      ],
      "execution_count": null,
      "outputs": [
        {
          "output_type": "execute_result",
          "data": {
            "application/vnd.google.colaboratory.intrinsic+json": {
              "type": "string"
            },
            "text/plain": [
              "'(Bloomberg) -- Apple Inc.’s corporate treasurer and keeper of its nearly $200 billion money pile has retired from the iPhone maker after about 35 years, according to people with knowledge of the matter.'"
            ]
          },
          "metadata": {},
          "execution_count": 5
        }
      ]
    },
    {
      "cell_type": "code",
      "metadata": {
        "id": "5UpDA_EeBrgP"
      },
      "source": [
        "text = [paragraph.text for paragraph in paragraphs]\n",
        "words = ' '.join(text).split(' ')[:400]\n",
        "ARTICLE = ' '.join(words)"
      ],
      "execution_count": null,
      "outputs": []
    },
    {
      "cell_type": "code",
      "metadata": {
        "colab": {
          "base_uri": "https://localhost:8080/",
          "height": 122
        },
        "id": "0R8ZqbjHBvl3",
        "outputId": "86d285f1-a3ce-424f-b788-03667069c407"
      },
      "source": [
        "ARTICLE"
      ],
      "execution_count": null,
      "outputs": [
        {
          "output_type": "execute_result",
          "data": {
            "application/vnd.google.colaboratory.intrinsic+json": {
              "type": "string"
            },
            "text/plain": [
              "' (Bloomberg) -- Apple Inc.’s corporate treasurer and keeper of its nearly $200 billion money pile has retired from the iPhone maker after about 35 years, according to people with knowledge of the matter. Most Read from Bloomberg Wall Street Titans Warn of the Next Big Risks for Investors The Unstoppable Appeal of Highway Expansion The Country That Makes Breakfast for the World Is Plagued by Fire, Frost and Drought HSBC Bets Big on China as Pressure Mounts in London An Unapologetic Old Boys’ Network Is Costing Australia Billions Gary Wipfler stepped down in recent weeks, said the people, who asked not to be identified because the move hasn’t been announced. He oversaw the iPhone maker’s cash balance, investments and capital-return programs, and he was once a fixture of Apple’s quarterly earnings calls. The 62-year-old executive reported to Chief Financial Officer Luca Maestri until his retirement. An Apple spokesman declined to comment. Wipfler’s retirement caps a career that spanned several CEOs -- even predating Steve Jobs’s return to the company in 1997, when Apple was famously on the brink of bankruptcy. Wipfler also helped oversee Braeburn Capital, Apple’s Reno, Nevada-based subsidiary that manages its assets. Wipfler also was involved with the company’s racial-justice and affordable-housing efforts. Apple changed its cash strategy when Tim Cook took over as chief executive officer in 2011. He devoted more of the company’s money to share buybacks and dividend programs, while steering clear of big-ticket acquisitions. Its largest deal to date is still the $3 billion takeover of Beats Electronics and Beats Music in 2014. The Cupertino, California-based company ended last quarter with $194 billion in cash and marketable securities. But Apple has been working to reduce its balance as the iPhone maker tries to reach net cash neutral status, meaning the company will have an equal amount of cash and debt. Most Read from Bloomberg Businessweek ‘Most Americans Today Believe the Stock Market Is Rigged, and They’re Right’ A Tiny Piece of Plastic Is Helping Farmers Use Far Less Water The Energy Future Needs Cleaner Batteries Evergrande Debt Crisis Is Financial Stress Test No One Wanted Microsoft and an Army of Tiny Telecoms Are Part of a Plan to Wire Rural America ©2021 Bloomberg L.P. Related Quotes (Bloomberg) -- Billionaire Patrick Drahi has made a bid for Eutelsat Communications SA valuing the French satellite operator at about 2.8 billion euros ($3.2 billion), a person'"
            ]
          },
          "metadata": {},
          "execution_count": 7
        }
      ]
    },
    {
      "cell_type": "code",
      "metadata": {
        "id": "CbvjC0KyByI5"
      },
      "source": [
        "input_ids = tokenizer(ARTICLE, return_tensors=\"pt\").input_ids\n",
        "output = model.generate(input_ids, max_length=55, num_beams=5, early_stopping=True)\n",
        "summary = tokenizer.decode(output[0], skip_special_tokens=True)"
      ],
      "execution_count": null,
      "outputs": []
    },
    {
      "cell_type": "code",
      "metadata": {
        "id": "cSarNwREByp2",
        "colab": {
          "base_uri": "https://localhost:8080/",
          "height": 35
        },
        "outputId": "62af5ea5-e908-4219-bba0-48e73942e9ac"
      },
      "source": [
        "summary"
      ],
      "execution_count": null,
      "outputs": [
        {
          "output_type": "execute_result",
          "data": {
            "application/vnd.google.colaboratory.intrinsic+json": {
              "type": "string"
            },
            "text/plain": [
              "'Gary Wipfler oversaw the iPhone maker’s cash, investments. He was once a fixture on quarterly earnings calls'"
            ]
          },
          "metadata": {},
          "execution_count": 9
        }
      ]
    },
    {
      "cell_type": "markdown",
      "metadata": {
        "id": "yPBAkTgvB1yl"
      },
      "source": [
        "# 4. Building a News and Sentiment Pipeline"
      ]
    },
    {
      "cell_type": "code",
      "metadata": {
        "id": "cL7YM6V3B2cV"
      },
      "source": [
        "monitored_tickers = ['GME', 'TSLA', 'BTC']"
      ],
      "execution_count": null,
      "outputs": []
    },
    {
      "cell_type": "markdown",
      "metadata": {
        "id": "_7emEHtKB6Cm"
      },
      "source": [
        "# 4.1. Search for Stock News using Google and Yahoo Finance"
      ]
    },
    {
      "cell_type": "code",
      "metadata": {
        "id": "JBv_bdxpB6wC"
      },
      "source": [
        "def search_for_stock_news_urls(ticker):\n",
        "    search_url = \"https://www.google.com/search?q=yahoo+finance+{}&tbm=nws\".format(ticker)\n",
        "    r = requests.get(search_url)\n",
        "    soup = BeautifulSoup(r.text, 'html.parser')\n",
        "    atags = soup.find_all('a')\n",
        "    hrefs = [link['href'] for link in atags]\n",
        "    return hrefs"
      ],
      "execution_count": null,
      "outputs": []
    },
    {
      "cell_type": "code",
      "metadata": {
        "id": "JF3gDJoiB-st"
      },
      "source": [
        "raw_urls = {ticker:search_for_stock_news_urls(ticker) for ticker in monitored_tickers}\n",
        "raw_urls"
      ],
      "execution_count": null,
      "outputs": []
    },
    {
      "cell_type": "code",
      "metadata": {
        "id": "3Ga-0vaqB8Re"
      },
      "source": [
        "raw_urls['GME']"
      ],
      "execution_count": null,
      "outputs": []
    },
    {
      "cell_type": "markdown",
      "metadata": {
        "id": "ISnztTvVCEmT"
      },
      "source": [
        "# 4.2. Strip out unwanted URLs"
      ]
    },
    {
      "cell_type": "code",
      "metadata": {
        "id": "_PXwdiiFCBzt"
      },
      "source": [
        "import re"
      ],
      "execution_count": null,
      "outputs": []
    },
    {
      "cell_type": "code",
      "metadata": {
        "id": "AWK4E_ysCH6G"
      },
      "source": [
        "exclude_list = ['maps', 'policies', 'preferences', 'accounts', 'support']"
      ],
      "execution_count": null,
      "outputs": []
    },
    {
      "cell_type": "code",
      "metadata": {
        "id": "qD6fOf-qCJe4"
      },
      "source": [
        "def strip_unwanted_urls(urls, exclude_list):\n",
        "    val = []\n",
        "    for url in urls: \n",
        "        if 'https://' in url and not any(exclude_word in url for exclude_word in exclude_list):\n",
        "            res = re.findall(r'(https?://\\S+)', url)[0].split('&')[0]\n",
        "            val.append(res)\n",
        "    return list(set(val))"
      ],
      "execution_count": null,
      "outputs": []
    },
    {
      "cell_type": "code",
      "metadata": {
        "id": "DO6hHrC-CLE-",
        "colab": {
          "base_uri": "https://localhost:8080/"
        },
        "outputId": "038a49f7-eb39-491c-f172-4aaddef3814a"
      },
      "source": [
        "cleaned_urls = {ticker:strip_unwanted_urls(raw_urls[ticker], exclude_list) for ticker in monitored_tickers}\n",
        "cleaned_urls"
      ],
      "execution_count": null,
      "outputs": [
        {
          "output_type": "execute_result",
          "data": {
            "text/plain": [
              "{'BTC': ['https://finance.yahoo.com/news/crypto-stocks-jump-bitcoin-other-100330525.html',\n",
              "  'https://finance.yahoo.com/news/bitcoin-posts-biggest-increase-since-131031923.html',\n",
              "  'https://finance.yahoo.com/news/why-bitcoin-related-ethereum-related-130031845.html',\n",
              "  'https://finance.yahoo.com/news/crypto-daily-movers-shakers-october-002227591.html',\n",
              "  'https://finance.yahoo.com/news/bitfarms-provides-bitcoin-production-mining-110000820.html',\n",
              "  'https://finance.yahoo.com/news/marathon-riot-blockchain-surge-bitcoin-123802408.html',\n",
              "  'https://finance.yahoo.com/news/central-bank-report-highlights-risk-in-the-race-to-digital-currencies-114759021.html',\n",
              "  'https://finance.yahoo.com/news/britcoin-millionaires-mt-gox-case-japan-153624083-230116218.html',\n",
              "  'https://finance.yahoo.com/news/bitcoin-rises-5-2-43-221833094.html',\n",
              "  'https://finance.yahoo.com/news/bitcoin-ethereum-rise-venezuela-launches-digital-currency-081104851.html'],\n",
              " 'GME': ['https://finance.yahoo.com/news/gamestop-reports-financial-results-q2-200500919.html',\n",
              "  'https://finance.yahoo.com/news/significant-role-of-retail-investing-here-to-stay-suzanne-shank-164155648.html',\n",
              "  'https://finance.yahoo.com/news/matt-kohrs-rise-amc-gme-153039161.html',\n",
              "  'https://ca.finance.yahoo.com/news/amc-gme-stocks-citadel-drama-123112651.html',\n",
              "  'https://finance.yahoo.com/news/game-stop-stock-is-enduring-an-awful-september-180120497.html',\n",
              "  'https://finance.yahoo.com/news/why-rf-capital-management-continues-164430403.html',\n",
              "  'https://finance.yahoo.com/news/disheartening-gamestop-gme-earnings-r-212009089.html',\n",
              "  'https://finance.yahoo.com/news/gamestop-nyse-gme-earnings-120000520.html',\n",
              "  'https://finance.yahoo.com/news/10-stocks-limelight-releasing-earnings-205059626.html',\n",
              "  'https://finance.yahoo.com/news/gamestop-gme-hire-500-staff-135001043.html'],\n",
              " 'TSLA': ['https://finance.yahoo.com/news/why-10-stocks-move-wednesday-165500409.html',\n",
              "  'https://finance.yahoo.com/news/tesla-steady-premarket-likely-nod-081308507.html',\n",
              "  'https://finance.yahoo.com/news/cathie-wood-sells-270-million-110334731.html',\n",
              "  'https://finance.yahoo.com/news/heres-why-investors-are-selling-tesla-stock-and-buying-ford-gm-175336726.html',\n",
              "  'https://finance.yahoo.com/news/why-tesla-nasdaq-tsla-one-090300212.html',\n",
              "  'https://finance.yahoo.com/news/why-10-stocks-moving-friday-202658800.html',\n",
              "  'https://finance.yahoo.com/news/analyzing-tesla-inc-tsla-future-151031009.html',\n",
              "  'https://finance.yahoo.com/news/institutions-own-fewer-tesla-inc-121320878.html',\n",
              "  'https://finance.yahoo.com/news/hedge-funds-aren-t-crazy-131412391.html',\n",
              "  'https://finance.yahoo.com/news/why-10-tech-stocks-moved-173615542.html']}"
            ]
          },
          "metadata": {},
          "execution_count": 17
        }
      ]
    },
    {
      "cell_type": "markdown",
      "metadata": {
        "id": "lYOQ1XH0CPMM"
      },
      "source": [
        "# 4.3. Search and Scrape Cleaned URLs"
      ]
    },
    {
      "cell_type": "code",
      "metadata": {
        "id": "gy106PZZCMlo"
      },
      "source": [
        "def scrape_and_process(URLs):\n",
        "    ARTICLES = []\n",
        "    for url in URLs: \n",
        "        r = requests.get(url)\n",
        "        soup = BeautifulSoup(r.text, 'html.parser')\n",
        "        paragraphs = soup.find_all('p')\n",
        "        text = [paragraph.text for paragraph in paragraphs]\n",
        "        words = ' '.join(text).split(' ')[:350]\n",
        "        ARTICLE = ' '.join(words)\n",
        "        ARTICLES.append(ARTICLE)\n",
        "    return ARTICLES"
      ],
      "execution_count": null,
      "outputs": []
    },
    {
      "cell_type": "code",
      "metadata": {
        "id": "lFm4Uhr6CSw_"
      },
      "source": [
        "articles = {ticker:scrape_and_process(cleaned_urls[ticker]) for ticker in monitored_tickers}\n",
        "articles"
      ],
      "execution_count": null,
      "outputs": []
    },
    {
      "cell_type": "code",
      "metadata": {
        "id": "zTLd5kDLCXke",
        "colab": {
          "base_uri": "https://localhost:8080/",
          "height": 122
        },
        "outputId": "f1699500-828b-48d1-835c-b2cfee4807bf"
      },
      "source": [
        "articles['TSLA'][2]"
      ],
      "execution_count": null,
      "outputs": [
        {
          "output_type": "execute_result",
          "data": {
            "application/vnd.google.colaboratory.intrinsic+json": {
              "type": "string"
            },
            "text/plain": [
              "' (Bloomberg) -- Cathie Wood sold a near $270 million stake in Tesla Inc. as the bond selloff hit rate-sensitive technology stocks to spur outflows from her growth-focused funds. Most Read from Bloomberg The Country That Makes Breakfast for the World Is Plagued by Fire, Frost and Drought The Unstoppable Appeal of Highway Expansion HSBC Bets Big on China as Pressure Mounts in London How Los Angeles Became the City of Dingbats Why the Gaza Strip May Be the City of the Future Wood’s Ark Investment Management offloaded more than 340,000 Tesla shares across three exchange-traded funds on Tuesday, according to the firm’s daily trading update. Some 11% of the famous ARK Innovation ETF (ticker ARKK) is still betting on Elon Musk’s company, according to data compiled by Bloomberg. The firm tends to trim the stake when it rises above 10%. Tesla has generally outperformed in the global rout hitting rate-sensitive investing styles, while ARKK posted one of its worst sessions in months on Tuesday. Meanwhile data overnight showed money managers withdrew $297 million from the growth-focused fund on Monday, the most since March, to bring the four-day outflow to more than $660 million. Since the Federal Reserve signaled last week a move to taper pandemic stimulus, Treasury yields have jumped and sent a shockwave through growth shares. Ark funds are heavily exposed to such names thanks to Wood’s focus on disruptive innovation and tech. Tesla remains Wood’s largest bet as the biggest holding for the flagship ARKK fund as well as the firm overall. She predicts its shares will rise from around $778 currently to $3,000. However, Ark often trims its stake in the carmaker when it has performed very well or grown too large in the portfolio. The carmaker was up 5.7% this month through Tuesday, compared with a 5.2% drop for the Nasdaq 100 tech gauge. ARKK was down 8.2%. Trading arrangements for the Ark ETFs mean flow data arrives with a one-day lag, but given ARKK’s 4.2% slump on Tuesday it’s likely there were more outflows in the latest session. If so, the amount of Tesla'"
            ]
          },
          "metadata": {},
          "execution_count": 20
        }
      ]
    },
    {
      "cell_type": "markdown",
      "metadata": {
        "id": "EL42jzrlCYU5"
      },
      "source": [
        "# 4.4. Summarise all Articles"
      ]
    },
    {
      "cell_type": "code",
      "metadata": {
        "id": "0g9LxmAzCbTt"
      },
      "source": [
        "def summarize(articles):\n",
        "    summaries = []\n",
        "    for article in articles:\n",
        "        input_ids = tokenizer.encode(article, return_tensors='pt')\n",
        "        output = model.generate(input_ids, max_length=55, num_beams=5, early_stopping=True)\n",
        "        summary = tokenizer.decode(output[0], skip_special_tokens=True)\n",
        "        summaries.append(summary)\n",
        "    return summaries"
      ],
      "execution_count": null,
      "outputs": []
    },
    {
      "cell_type": "code",
      "metadata": {
        "id": "65o7oCyJCck2"
      },
      "source": [
        "summaries = {ticker:summarize(articles[ticker]) for ticker in monitored_tickers}\n",
        "summaries"
      ],
      "execution_count": null,
      "outputs": []
    },
    {
      "cell_type": "code",
      "metadata": {
        "id": "Py_QO1g8CeSw",
        "colab": {
          "base_uri": "https://localhost:8080/"
        },
        "outputId": "4562bf5d-87c2-4847-842d-a53bf2ed95a2"
      },
      "source": [
        "summaries['BTC']"
      ],
      "execution_count": null,
      "outputs": [
        {
          "output_type": "execute_result",
          "data": {
            "text/plain": [
              "['Bitcoin jumps 12% on Friday, nears $48,000-mark. Moderna, Novavax tumble as healthcare stocks drag',\n",
              " 'We are aware of the issue and are working to resolve it.',\n",
              " 'We are aware of the issue and are working to resolve it.',\n",
              " 'We are aware of the issue and are working to resolve it.',\n",
              " 'Bitfarms mines 1,050 BTC in third quarter, up 38% over second quarter. Deposited 2,312 BTC into custody through September 30, representing 96% of 2021 production',\n",
              " 'We are aware of the issue and are working to resolve it.',\n",
              " 'We are aware of the issue and are working to resolve it.',\n",
              " 'Creditors have been waiting almost a decade for payouts. Bitcoin has soared in value more than 100 times since 2014',\n",
              " 'We are aware of the issue and are working to resolve it.',\n",
              " 'Venezuela launches digital bolivar. Fed chair says stablecoins are ‘outside regulatory perimeter’']"
            ]
          },
          "metadata": {},
          "execution_count": 23
        }
      ]
    },
    {
      "cell_type": "markdown",
      "metadata": {
        "id": "UWRn3-beCg9Z"
      },
      "source": [
        "# 5. Adding Sentiment Analysis"
      ]
    },
    {
      "cell_type": "code",
      "metadata": {
        "id": "s1QsXr4fChkD"
      },
      "source": [
        "from transformers import pipeline\n",
        "sentiment = pipeline('sentiment-analysis')"
      ],
      "execution_count": null,
      "outputs": []
    },
    {
      "cell_type": "code",
      "metadata": {
        "id": "JU-S_gi8CjBp",
        "colab": {
          "base_uri": "https://localhost:8080/"
        },
        "outputId": "ab6b8131-51a8-4437-b7c1-9f1c94840b93"
      },
      "source": [
        "sentiment(summaries['BTC'])"
      ],
      "execution_count": null,
      "outputs": [
        {
          "output_type": "stream",
          "name": "stderr",
          "text": [
            "/usr/local/lib/python3.7/dist-packages/torch/utils/data/dataloader.py:481: UserWarning: This DataLoader will create 8 worker processes in total. Our suggested max number of worker in current system is 2, which is smaller than what this DataLoader is going to create. Please be aware that excessive worker creation might get DataLoader running slow or even freeze, lower the worker number to avoid potential slowness/freeze if necessary.\n",
            "  cpuset_checked))\n"
          ]
        },
        {
          "output_type": "execute_result",
          "data": {
            "text/plain": [
              "[{'label': 'NEGATIVE', 'score': 0.9995713829994202},\n",
              " {'label': 'POSITIVE', 'score': 0.9979088306427002},\n",
              " {'label': 'POSITIVE', 'score': 0.9979088306427002},\n",
              " {'label': 'POSITIVE', 'score': 0.9979088306427002},\n",
              " {'label': 'NEGATIVE', 'score': 0.9866390228271484},\n",
              " {'label': 'POSITIVE', 'score': 0.9979088306427002},\n",
              " {'label': 'POSITIVE', 'score': 0.9979088306427002},\n",
              " {'label': 'POSITIVE', 'score': 0.9985235333442688},\n",
              " {'label': 'POSITIVE', 'score': 0.9979088306427002},\n",
              " {'label': 'NEGATIVE', 'score': 0.9325519800186157}]"
            ]
          },
          "metadata": {},
          "execution_count": 25
        }
      ]
    },
    {
      "cell_type": "code",
      "metadata": {
        "id": "dIl3Zk7kCluO"
      },
      "source": [
        "scores = {ticker:sentiment(summaries[ticker]) for ticker in monitored_tickers}\n",
        "scores"
      ],
      "execution_count": null,
      "outputs": []
    },
    {
      "cell_type": "code",
      "metadata": {
        "id": "rV3jxqRKCnCh",
        "colab": {
          "base_uri": "https://localhost:8080/"
        },
        "outputId": "c22a32b5-b5bd-4eed-8be1-4f921ef4ef6e"
      },
      "source": [
        "print(summaries['GME'][3], scores['GME'][3]['label'], scores['GME'][3]['score'])"
      ],
      "execution_count": null,
      "outputs": [
        {
          "output_type": "stream",
          "name": "stdout",
          "text": [
            "Market maker Citadel Securities made a series of posts on Twitter. Claim that CEO Ken Griffin had never spoken to Vlad Tenev NEGATIVE 0.9960700273513794\n"
          ]
        }
      ]
    },
    {
      "cell_type": "code",
      "metadata": {
        "id": "Vj9vdSyCCoqx",
        "colab": {
          "base_uri": "https://localhost:8080/"
        },
        "outputId": "55ab920c-f4bb-4608-caeb-2326c2c960fb"
      },
      "source": [
        "scores['BTC'][0]['score']"
      ],
      "execution_count": null,
      "outputs": [
        {
          "output_type": "execute_result",
          "data": {
            "text/plain": [
              "0.9995713829994202"
            ]
          },
          "metadata": {},
          "execution_count": 28
        }
      ]
    },
    {
      "cell_type": "markdown",
      "metadata": {
        "id": "bfdRzZ9UCqO2"
      },
      "source": [
        "# 6. Exporting Results to CSV"
      ]
    },
    {
      "cell_type": "code",
      "metadata": {
        "id": "W9f2M7uACqy6"
      },
      "source": [
        "summaries"
      ],
      "execution_count": null,
      "outputs": []
    },
    {
      "cell_type": "code",
      "metadata": {
        "id": "gFBWS0m0Csga"
      },
      "source": [
        "scores"
      ],
      "execution_count": null,
      "outputs": []
    },
    {
      "cell_type": "code",
      "metadata": {
        "id": "bnAuKI-OCuEr"
      },
      "source": [
        "cleaned_urls"
      ],
      "execution_count": null,
      "outputs": []
    },
    {
      "cell_type": "code",
      "metadata": {
        "id": "xggUnAgMCwfO",
        "colab": {
          "base_uri": "https://localhost:8080/"
        },
        "outputId": "1af9dca7-2767-4fc5-920f-38edf64ccdc4"
      },
      "source": [
        "range(len(summaries['GME']))"
      ],
      "execution_count": null,
      "outputs": [
        {
          "output_type": "execute_result",
          "data": {
            "text/plain": [
              "range(0, 10)"
            ]
          },
          "metadata": {},
          "execution_count": 32
        }
      ]
    },
    {
      "cell_type": "code",
      "metadata": {
        "id": "hS5L5oY6Cxvy",
        "colab": {
          "base_uri": "https://localhost:8080/",
          "height": 35
        },
        "outputId": "7d412f87-2ffd-433c-9773-2ff9b45499f9"
      },
      "source": [
        "summaries['GME'][3]"
      ],
      "execution_count": null,
      "outputs": [
        {
          "output_type": "execute_result",
          "data": {
            "application/vnd.google.colaboratory.intrinsic+json": {
              "type": "string"
            },
            "text/plain": [
              "'Market maker Citadel Securities made a series of posts on Twitter. Claim that CEO Ken Griffin had never spoken to Vlad Tenev'"
            ]
          },
          "metadata": {},
          "execution_count": 33
        }
      ]
    },
    {
      "cell_type": "code",
      "metadata": {
        "id": "AcDcOQddCzi5"
      },
      "source": [
        "def create_output_array(summaries, scores, urls):\n",
        "    output = []\n",
        "    for ticker in monitored_tickers:\n",
        "        for counter in range(len(summaries[ticker])):\n",
        "            output_this = [\n",
        "                ticker,\n",
        "                summaries[ticker][counter],\n",
        "                scores[ticker][counter]['label'],\n",
        "                scores[ticker][counter]['score'],\n",
        "                urls[ticker][counter]\n",
        "            ]\n",
        "            output.append(output_this)\n",
        "    return output"
      ],
      "execution_count": null,
      "outputs": []
    },
    {
      "cell_type": "code",
      "metadata": {
        "id": "yg-cSk8MC014"
      },
      "source": [
        "final_output = create_output_array(summaries, scores, cleaned_urls)\n",
        "final_output"
      ],
      "execution_count": null,
      "outputs": []
    },
    {
      "cell_type": "code",
      "metadata": {
        "id": "ZiHjfoPJC3Og"
      },
      "source": [
        "final_output.insert(0, ['Ticker', 'Summary', 'Label', 'Confidence', 'URL'])"
      ],
      "execution_count": null,
      "outputs": []
    },
    {
      "cell_type": "code",
      "metadata": {
        "id": "iM5ujPbaC4lM",
        "colab": {
          "base_uri": "https://localhost:8080/"
        },
        "outputId": "7ef9693c-4732-47a5-a1d2-8fd9a8ed1a47"
      },
      "source": [
        "final_output"
      ],
      "execution_count": null,
      "outputs": [
        {
          "output_type": "execute_result",
          "data": {
            "text/plain": [
              "[['Ticker', 'Summary', 'Label', 'Confidence', 'URL'],\n",
              " ['GME',\n",
              "  'Second quarter net sales of $1.183 billion compared to $942 million in the prior year. Cash and restricted cash of $1.78 billion ended the period',\n",
              "  'NEGATIVE',\n",
              "  0.9525899291038513,\n",
              "  'https://finance.yahoo.com/news/gamestop-reports-financial-results-q2-200500919.html'],\n",
              " ['GME',\n",
              "  \"‘Retail factor is here to stay,' says Siebert Williams Shank. Off-exchange trading made up 47.2% of equity volume in January 2021\",\n",
              "  'POSITIVE',\n",
              "  0.9101589918136597,\n",
              "  'https://finance.yahoo.com/news/significant-role-of-retail-investing-here-to-stay-suzanne-shank-164155648.html'],\n",
              " ['GME',\n",
              "  'The ‘Apes’ have become a rallying cry for retail traders. AMC Entertainment, GME are among top 10 most-shorted stocks',\n",
              "  'NEGATIVE',\n",
              "  0.9831770062446594,\n",
              "  'https://finance.yahoo.com/news/matt-kohrs-rise-amc-gme-153039161.html'],\n",
              " ['GME',\n",
              "  'Market maker Citadel Securities made a series of posts on Twitter. Claim that CEO Ken Griffin had never spoken to Vlad Tenev',\n",
              "  'NEGATIVE',\n",
              "  0.9960700273513794,\n",
              "  'https://ca.finance.yahoo.com/news/amc-gme-stocks-citadel-drama-123112651.html'],\n",
              " ['GME',\n",
              "  'Shares of the self-described tech company are down 12% so far in September. One could be punishing meme trader crowd for lack of clarity',\n",
              "  'NEGATIVE',\n",
              "  0.9997784495353699,\n",
              "  'https://finance.yahoo.com/news/game-stop-stock-is-enduring-an-awful-september-180120497.html'],\n",
              " ['GME',\n",
              "  'RF Capital Management published its second-quarter 2021 investor letter. GME returned 977.81% since the beginning of the year',\n",
              "  'NEGATIVE',\n",
              "  0.720937967300415,\n",
              "  'https://finance.yahoo.com/news/why-rf-capital-management-continues-164430403.html'],\n",
              " ['GME',\n",
              "  \"Best Buy had an excellent July quarter, blowing analysts' estimates out of the water.\",\n",
              "  'POSITIVE',\n",
              "  0.9984837174415588,\n",
              "  'https://finance.yahoo.com/news/disheartening-gamestop-gme-earnings-r-212009089.html'],\n",
              " ['GME',\n",
              "  'Shares dip more than 10% in after-hours trading despite strong report. Management says they’re investing in long-term growth initiatives',\n",
              "  'NEGATIVE',\n",
              "  0.9926254153251648,\n",
              "  'https://finance.yahoo.com/news/gamestop-nyse-gme-earnings-120000520.html'],\n",
              " ['GME',\n",
              "  'Most of these stocks made big moves after posting their earnings reports.',\n",
              "  'POSITIVE',\n",
              "  0.9796134233474731,\n",
              "  'https://finance.yahoo.com/news/10-stocks-limelight-releasing-earnings-205059626.html'],\n",
              " ['GME',\n",
              "  'Plans to hire nearly 500 employees at new customer service center in Pembroke Pines, FL. Company has been undertaking radical digital transformation efforts',\n",
              "  'POSITIVE',\n",
              "  0.9902737736701965,\n",
              "  'https://finance.yahoo.com/news/gamestop-gme-hire-500-staff-135001043.html'],\n",
              " ['TSLA',\n",
              "  'The Dow Jones, the S&P 500 and the Nasdaq are all in the green today. Dollar Tree to sell over $1 products in its Dollar Tree Plus stores',\n",
              "  'POSITIVE',\n",
              "  0.9991242289543152,\n",
              "  'https://finance.yahoo.com/news/why-10-stocks-move-wednesday-165500409.html'],\n",
              " ['TSLA',\n",
              "  'We are aware of the issue and are working to resolve it.',\n",
              "  'POSITIVE',\n",
              "  0.9979088306427002,\n",
              "  'https://finance.yahoo.com/news/tesla-steady-premarket-likely-nod-081308507.html'],\n",
              " ['TSLA',\n",
              "  'Wood’s ARK Innovation ETF posted one of worst sessions in months. Tesla has generally outperformed in the global rout',\n",
              "  'NEGATIVE',\n",
              "  0.9994449019432068,\n",
              "  'https://finance.yahoo.com/news/cathie-wood-sells-270-million-110334731.html'],\n",
              " ['TSLA',\n",
              "  'Chief Market Strategist JJ Kinahan sees Ford and GM as potential EV rivals. Tesla’s superior battery technology gives it a leg up',\n",
              "  'POSITIVE',\n",
              "  0.9986298084259033,\n",
              "  'https://finance.yahoo.com/news/heres-why-investors-are-selling-tesla-stock-and-buying-ford-gm-175336726.html'],\n",
              " ['TSLA',\n",
              "  'Electric vehicle company has been stuck in neutral for the majority of 2021. Tesla could deliver strong outperformance over the long term',\n",
              "  'NEGATIVE',\n",
              "  0.9874534010887146,\n",
              "  'https://finance.yahoo.com/news/why-tesla-nasdaq-tsla-one-090300212.html'],\n",
              " ['TSLA',\n",
              "  'Pinduo, Vail Resorts, Moderna, salesforce.com, Micron Technology among stocks to watch.',\n",
              "  'POSITIVE',\n",
              "  0.9867183566093445,\n",
              "  'https://finance.yahoo.com/news/why-10-stocks-moving-friday-202658800.html'],\n",
              " ['TSLA',\n",
              "  \"Elon Musk's electric vehicle maker has made giant strides. Tesla has been consistently beating market expectations\",\n",
              "  'POSITIVE',\n",
              "  0.9995555281639099,\n",
              "  'https://finance.yahoo.com/news/analyzing-tesla-inc-tsla-future-151031009.html'],\n",
              " ['TSLA',\n",
              "  'Tesla just obtained a patent for laser beam wiper technology.',\n",
              "  'NEGATIVE',\n",
              "  0.995489776134491,\n",
              "  'https://finance.yahoo.com/news/institutions-own-fewer-tesla-inc-121320878.html'],\n",
              " ['TSLA',\n",
              "  'Tesla Inc. (:TSLA) was in 60 hedge funds’ portfolios at the end of June.',\n",
              "  'NEGATIVE',\n",
              "  0.9132583737373352,\n",
              "  'https://finance.yahoo.com/news/hedge-funds-aren-t-crazy-131412391.html'],\n",
              " ['TSLA',\n",
              "  'Tesla, Apple, Facebook, Amazon, and Alphabet all moved this week.',\n",
              "  'POSITIVE',\n",
              "  0.9931678175926208,\n",
              "  'https://finance.yahoo.com/news/why-10-tech-stocks-moved-173615542.html'],\n",
              " ['BTC',\n",
              "  'Bitcoin jumps 12% on Friday, nears $48,000-mark. Moderna, Novavax tumble as healthcare stocks drag',\n",
              "  'NEGATIVE',\n",
              "  0.9995713829994202,\n",
              "  'https://finance.yahoo.com/news/crypto-stocks-jump-bitcoin-other-100330525.html'],\n",
              " ['BTC',\n",
              "  'We are aware of the issue and are working to resolve it.',\n",
              "  'POSITIVE',\n",
              "  0.9979088306427002,\n",
              "  'https://finance.yahoo.com/news/bitcoin-posts-biggest-increase-since-131031923.html'],\n",
              " ['BTC',\n",
              "  'We are aware of the issue and are working to resolve it.',\n",
              "  'POSITIVE',\n",
              "  0.9979088306427002,\n",
              "  'https://finance.yahoo.com/news/why-bitcoin-related-ethereum-related-130031845.html'],\n",
              " ['BTC',\n",
              "  'We are aware of the issue and are working to resolve it.',\n",
              "  'POSITIVE',\n",
              "  0.9979088306427002,\n",
              "  'https://finance.yahoo.com/news/crypto-daily-movers-shakers-october-002227591.html'],\n",
              " ['BTC',\n",
              "  'Bitfarms mines 1,050 BTC in third quarter, up 38% over second quarter. Deposited 2,312 BTC into custody through September 30, representing 96% of 2021 production',\n",
              "  'NEGATIVE',\n",
              "  0.9866390228271484,\n",
              "  'https://finance.yahoo.com/news/bitfarms-provides-bitcoin-production-mining-110000820.html'],\n",
              " ['BTC',\n",
              "  'We are aware of the issue and are working to resolve it.',\n",
              "  'POSITIVE',\n",
              "  0.9979088306427002,\n",
              "  'https://finance.yahoo.com/news/marathon-riot-blockchain-surge-bitcoin-123802408.html'],\n",
              " ['BTC',\n",
              "  'We are aware of the issue and are working to resolve it.',\n",
              "  'POSITIVE',\n",
              "  0.9979088306427002,\n",
              "  'https://finance.yahoo.com/news/central-bank-report-highlights-risk-in-the-race-to-digital-currencies-114759021.html'],\n",
              " ['BTC',\n",
              "  'Creditors have been waiting almost a decade for payouts. Bitcoin has soared in value more than 100 times since 2014',\n",
              "  'POSITIVE',\n",
              "  0.9985235333442688,\n",
              "  'https://finance.yahoo.com/news/britcoin-millionaires-mt-gox-case-japan-153624083-230116218.html'],\n",
              " ['BTC',\n",
              "  'We are aware of the issue and are working to resolve it.',\n",
              "  'POSITIVE',\n",
              "  0.9979088306427002,\n",
              "  'https://finance.yahoo.com/news/bitcoin-rises-5-2-43-221833094.html'],\n",
              " ['BTC',\n",
              "  'Venezuela launches digital bolivar. Fed chair says stablecoins are ‘outside regulatory perimeter’',\n",
              "  'NEGATIVE',\n",
              "  0.9325519800186157,\n",
              "  'https://finance.yahoo.com/news/bitcoin-ethereum-rise-venezuela-launches-digital-currency-081104851.html']]"
            ]
          },
          "metadata": {},
          "execution_count": 37
        }
      ]
    },
    {
      "cell_type": "code",
      "metadata": {
        "id": "okd9GJ1IC7ax"
      },
      "source": [
        "import csv\n",
        "with open('assetsummaries.csv', mode='w', newline='') as f:\n",
        "    csv_writer = csv.writer(f, delimiter=',', quotechar='\"', quoting=csv.QUOTE_MINIMAL)\n",
        "    csv_writer.writerows(final_output)"
      ],
      "execution_count": null,
      "outputs": []
    }
  ]
}